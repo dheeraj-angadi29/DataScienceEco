{
 "cells": [
  {
   "cell_type": "markdown",
   "id": "db977ebd",
   "metadata": {},
   "source": [
    "# Data Science Tools and Ecosystem"
   ]
  },
  {
   "cell_type": "markdown",
   "id": "5dcb5f23",
   "metadata": {},
   "source": [
    "In this notebook, various Data Science Tools and Ecosystem are summarized below."
   ]
  },
  {
   "cell_type": "markdown",
   "id": "e7b7ba28",
   "metadata": {},
   "source": [
    "**Objectives:**\n",
    "* List popular Data Science languages\n",
    "* List commonly used libraries in Data Science\n",
    "* List the common tools used in Data Science in a table\n",
    "* Execute an arithematic expression"
   ]
  },
  {
   "cell_type": "markdown",
   "id": "1ecc15b2",
   "metadata": {},
   "source": [
    "Some of the popular languages that Data Scientists use are:\n",
    "1. Python\n",
    "2. R\n",
    "3. Scala\n",
    "4. Matlab"
   ]
  },
  {
   "cell_type": "markdown",
   "id": "86cf98f2",
   "metadata": {},
   "source": [
    "Some of the commonly used libraries used by Data Scientists include:\n",
    "1. Seaborn\n",
    "2. Numpy\n",
    "3. Pandas\n",
    "4. Scikit-learn"
   ]
  },
  {
   "cell_type": "markdown",
   "id": "490fa109",
   "metadata": {},
   "source": [
    "## Data Science Tools\n",
    "| Data Science Tools     |\n",
    "| :---        | \n",
    "| RStudio      | \n",
    "| Google Colab   |\n",
    "| Jupyter Notebook|"
   ]
  },
  {
   "cell_type": "markdown",
   "id": "e8ebb1af",
   "metadata": {},
   "source": [
    "### Below are a few examples of evaluating arithmetic expressions in Python:"
   ]
  },
  {
   "cell_type": "code",
   "execution_count": 2,
   "id": "bc921116",
   "metadata": {},
   "outputs": [
    {
     "data": {
      "text/plain": [
       "17"
      ]
     },
     "execution_count": 2,
     "metadata": {},
     "output_type": "execute_result"
    }
   ],
   "source": [
    "#This a simple arithmetic expression to mutiply then add integers\n",
    "(3*4)+5"
   ]
  },
  {
   "cell_type": "code",
   "execution_count": 3,
   "id": "82cd250c",
   "metadata": {},
   "outputs": [
    {
     "data": {
      "text/plain": [
       "3.3333333333333335"
      ]
     },
     "execution_count": 3,
     "metadata": {},
     "output_type": "execute_result"
    }
   ],
   "source": [
    "#This will convert 200 minutes to hours by diving by 60\n",
    "minutes = 200\n",
    "hours = minutes/60\n",
    "hours"
   ]
  },
  {
   "cell_type": "markdown",
   "id": "cf60786f",
   "metadata": {},
   "source": [
    "## Author\n",
    "Dheeraj Angadi"
   ]
  }
 ],
 "metadata": {
  "kernelspec": {
   "display_name": "Python 3 (ipykernel)",
   "language": "python",
   "name": "python3"
  },
  "language_info": {
   "codemirror_mode": {
    "name": "ipython",
    "version": 3
   },
   "file_extension": ".py",
   "mimetype": "text/x-python",
   "name": "python",
   "nbconvert_exporter": "python",
   "pygments_lexer": "ipython3",
   "version": "3.10.8"
  }
 },
 "nbformat": 4,
 "nbformat_minor": 5
}
